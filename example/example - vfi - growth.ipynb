{
 "cells": [
  {
   "cell_type": "markdown",
   "metadata": {},
   "source": [
    "# Example: collocation of a simple growth model with Markov productivity shock"
   ]
  },
  {
   "cell_type": "code",
   "execution_count": null,
   "metadata": {},
   "outputs": [
    {
     "name": "stdout",
     "output_type": "stream",
     "text": [
      "[:Collocations, :MarkovCollocationUniform, :precond!, :update_θ!]\n"
     ]
    },
    {
     "name": "stderr",
     "output_type": "stream",
     "text": [
      "WARNING: replacing module Collocations.\n"
     ]
    }
   ],
   "source": [
    "import AdaptiveSG as asg # check my package `AdaptiveSG.jl` on github\n",
    "\n",
    "col = include(\"src/Collocations.jl\") # in case you did not install the package\n",
    "\n",
    "println(names(col))"
   ]
  },
  {
   "cell_type": "markdown",
   "metadata": {},
   "source": [
    "## Model\n",
    "\n",
    "$$\n",
    "\\begin{aligned}\n",
    "& v(k,z) = \\max_{c,k'} \\log{c} + \\beta \\mathbb{E}\\{ v(k',z') | z\\} \\\\\n",
    "& k' = z \\cdot k^\\alpha - \\delta k - c \\\\\n",
    "& c > 0, k' > 0 \\\\\n",
    "& \\log{z} \\sim \\text{MarkovChain}\n",
    "\\end{aligned}\n",
    "$$\n",
    "\n",
    "Parameterization:\n",
    "\n",
    "- $\\alpha = 0.3$\n",
    "- $\\delta = 0.05$\n",
    "- $\\beta = 0.9$\n",
    "\n",
    "$$\n",
    "z \\in \\{0.8, 1.2\\}; P = \\begin{bmatrix}\n",
    "0.7 & 0.3 \\\\\n",
    "0.5 & 0.5\n",
    "\\end{bmatrix}\n",
    "$$\n",
    "\n",
    "\n",
    "Assumes the current policy guess $c(k,z) = (1-\\beta) (zk^\\alpha - \\delta k)$.\n",
    "Iterate the value function only."
   ]
  },
  {
   "cell_type": "code",
   "execution_count": null,
   "metadata": {},
   "outputs": [
    {
     "name": "stdout",
     "output_type": "stream",
     "text": [
      "The RSG is trained.\n"
     ]
    },
    {
     "data": {
      "text/plain": [
       "(RegularSparseGrid{1}(depth = 8, #nodes = 129, max_levels = (8,)), Normalizer{1}\n",
       "\tx[1] in [0.01, 10.0]\n",
       ", (α = 0.3, δ = 0.05, β = 0.9, z = [0.8, 1.2], Pz = [0.7 0.3; 0.5 0.5]))"
      ]
     },
     "metadata": {},
     "output_type": "display_data"
    }
   ],
   "source": [
    "# step: initialize the value function interpolation as an RSG\n",
    "# NOTE: we only need the grid structure and train an initial guess for the value function\n",
    "#       these are shared across all 2 states of `z`\n",
    "vitp, nzer, pars = let accuracy = 8\n",
    "\n",
    "    local _pars = (\n",
    "        α = 0.3,\n",
    "        δ = 0.05,\n",
    "        β = 0.9,\n",
    "        z = [0.8, 1.2],\n",
    "        Pz = [0.7 0.3; 0.5 0.5],\n",
    "    )\n",
    "\n",
    "    # NOTE: only the endo state(s) (k,)!\n",
    "    local _nzer = asg.Normalizer{1}((0.01,), (2.0,))\n",
    "\n",
    "    local _vitp = asg.RegularSparseGrid{1}(\n",
    "        accuracy, \n",
    "        ntuple(_ -> accuracy, 1),\n",
    "    )\n",
    "\n",
    "    # guess: the initial value function to iterate on\n",
    "    asg.train!(\n",
    "        _vitp,\n",
    "        X01 -> begin\n",
    "            k = asg.denormalize(X01, _nzer)[1]\n",
    "            c = (1.0 * k^_pars.α - _pars.δ * k) * (1.0 - _pars.β)\n",
    "            return log(c) / (1.0 - _pars.β)\n",
    "        end,\n",
    "        printlevel = \"final\",\n",
    "        validate_io = false\n",
    "    )\n",
    "    \n",
    "    _vitp, _nzer, _pars\n",
    "end # let"
   ]
  },
  {
   "cell_type": "code",
   "execution_count": 110,
   "metadata": {},
   "outputs": [
    {
     "data": {
      "text/plain": [
       "UniformMarkovCollocation{D=1,N=129,K=2,J=1}\n",
       "- dimnames of x states        : [:k]\n",
       "- dimension of endog states   : D = 1\n",
       "- dimension of exog shocks    : J = 1\n",
       "- discount factor             : β = 0.9\n",
       "- # of grid nodes             : N = 129\n",
       "- # of states in Markov chain : K = 2\n",
       "- # of v(x,z)       interp coefficients N*K = 258\n",
       "- # of E{v(x,z')|z} interp coefficients N*K = 258\n",
       "- size of Jacobian matrix : (516, 516)\n"
      ]
     },
     "metadata": {},
     "output_type": "display_data"
    }
   ],
   "source": [
    "# define the collocation model\n",
    "mcl = col.MarkovCollocationUniform(\n",
    "    asg.basis_matrix(vitp),\n",
    "    pars.Pz,\n",
    "    D = 1, J = 1,\n",
    "    dimnames = (:k,),\n",
    "    β = pars.β,\n",
    ")\n",
    "display(mcl)"
   ]
  },
  {
   "cell_type": "code",
   "execution_count": 111,
   "metadata": {},
   "outputs": [
    {
     "data": {
      "text/plain": [
       "258×258 SparseArrays.SparseMatrixCSC{Float64, Int64} with 1798 stored entries:\n",
       "⎡⣷⡀⠀⠀⠀⠀⠀⠀⠀⠀⠀⠀⠀⠀⠀⠀⠀⠀⠀⠀⣧⠀⠀⠀⠀⠀⠀⠀⠀⠀⠀⠀⠀⠀⠀⠀⠀⠀⠀⠀⎤\n",
       "⎢⣿⣧⡀⠀⠀⠀⠀⠀⠀⠀⠀⠀⠀⠀⠀⠀⠀⠀⠀⠀⣿⢦⠀⠀⠀⠀⠀⠀⠀⠀⠀⠀⠀⠀⠀⠀⠀⠀⠀⠀⎥\n",
       "⎢⣿⣧⠳⡀⠀⠀⠀⠀⠀⠀⠀⠀⠀⠀⠀⠀⠀⠀⠀⠀⣿⡏⢧⠀⠀⠀⠀⠀⠀⠀⠀⠀⠀⠀⠀⠀⠀⠀⠀⠀⎥\n",
       "⎢⣿⡿⡄⢣⡀⠀⠀⠀⠀⠀⠀⠀⠀⠀⠀⠀⠀⠀⠀⠀⣿⢸⠈⢦⠀⠀⠀⠀⠀⠀⠀⠀⠀⠀⠀⠀⠀⠀⠀⠀⎥\n",
       "⎢⣿⡇⢣⠀⠳⡀⠀⠀⠀⠀⠀⠀⠀⠀⠀⠀⠀⠀⠀⠀⣿⡇⣇⠈⢧⠀⠀⠀⠀⠀⠀⠀⠀⠀⠀⠀⠀⠀⠀⠀⎥\n",
       "⎢⣿⣿⠘⡄⠀⢣⡀⠀⠀⠀⠀⠀⠀⠀⠀⠀⠀⠀⠀⠀⣿⢇⢸⠀⠈⢦⠀⠀⠀⠀⠀⠀⠀⠀⠀⠀⠀⠀⠀⠀⎥\n",
       "⎢⣿⣿⠀⢧⠀⠀⠳⡀⠀⠀⠀⠀⠀⠀⠀⠀⠀⠀⠀⠀⣿⢸⠈⡇⠀⠈⢧⠀⠀⠀⠀⠀⠀⠀⠀⠀⠀⠀⠀⠀⎥\n",
       "⎢⣿⡇⡇⠸⡄⠀⠀⢣⡀⠀⠀⠀⠀⠀⠀⠀⠀⠀⠀⠀⣿⡼⡄⢸⠀⠀⠈⢦⠀⠀⠀⠀⠀⠀⠀⠀⠀⠀⠀⠀⎥\n",
       "⎢⣿⡇⢇⠀⢣⠀⠀⠀⠳⡀⠀⠀⠀⠀⠀⠀⠀⠀⠀⠀⣿⡇⡇⠀⣇⠀⠀⠈⢧⠀⠀⠀⠀⠀⠀⠀⠀⠀⠀⠀⎥\n",
       "⎢⣿⡇⢸⠀⠘⡄⠀⠀⠀⢣⡀⠀⠀⠀⠀⠀⠀⠀⠀⠀⣿⡇⢣⠀⢸⠀⠀⠀⠈⢦⠀⠀⠀⠀⠀⠀⠀⠀⠀⠀⎥\n",
       "⎢⣿⣿⠸⡄⠀⢧⠀⠀⠀⠀⠳⡀⠀⠀⠀⠀⠀⠀⠀⠀⣿⡇⢸⠀⠈⡇⠀⠀⠀⠈⢣⠀⠀⠀⠀⠀⠀⠀⠀⠀⎥\n",
       "⎢⣿⣿⠀⡇⠀⠘⡄⠀⠀⠀⠀⢳⡀⠀⠀⠀⠀⠀⠀⠀⣿⢳⢸⠀⠀⢸⠀⠀⠀⠀⠈⢦⠀⠀⠀⠀⠀⠀⠀⠀⎥\n",
       "⎢⣿⣿⠀⡇⠀⠀⢣⠀⠀⠀⠀⠀⠳⡀⠀⠀⠀⠀⠀⠀⣿⢸⠀⡇⠀⠀⣇⠀⠀⠀⠀⠈⢣⠀⠀⠀⠀⠀⠀⠀⎥\n",
       "⎢⣿⡿⡀⢹⠀⠀⠘⡆⠀⠀⠀⠀⠀⢳⡀⠀⠀⠀⠀⠀⣿⢸⠀⢇⠀⠀⢸⠀⠀⠀⠀⠀⠈⢦⠀⠀⠀⠀⠀⠀⎥\n",
       "⎢⣿⡇⡇⢸⠀⠀⠀⢧⠀⠀⠀⠀⠀⠀⠳⡀⠀⠀⠀⠀⣿⢸⠀⢸⠀⠀⠈⡇⠀⠀⠀⠀⠀⠈⢣⠀⠀⠀⠀⠀⎥\n",
       "⎢⣿⡇⡇⠀⡇⠀⠀⠘⡄⠀⠀⠀⠀⠀⠀⢳⡀⠀⠀⠀⣿⡇⡇⠸⡄⠀⠀⢸⠀⠀⠀⠀⠀⠀⠈⢦⠀⠀⠀⠀⎥\n",
       "⎢⣿⡇⡇⠀⢇⠀⠀⠀⢣⠀⠀⠀⠀⠀⠀⠀⠳⡀⠀⠀⣿⡇⡇⠀⡇⠀⠀⠀⣇⠀⠀⠀⠀⠀⠀⠈⢣⠀⠀⠀⎥\n",
       "⎢⣿⡇⢳⠀⢸⠀⠀⠀⠘⡆⠀⠀⠀⠀⠀⠀⠀⢳⡀⠀⣿⡇⡇⠀⢣⠀⠀⠀⢸⠀⠀⠀⠀⠀⠀⠀⠈⢦⠀⠀⎥\n",
       "⎢⣿⡇⢸⠀⠸⡄⠀⠀⠀⢧⠀⠀⠀⠀⠀⠀⠀⠀⠳⡀⣿⡇⢇⠀⢸⠀⠀⠀⠈⡇⠀⠀⠀⠀⠀⠀⠀⠈⢣⠀⎥\n",
       "⎣⣿⡇⢸⠀⠀⡇⠀⠀⠀⠘⡄⠀⠀⠀⠀⠀⠀⠀⠀⢳⣿⡇⢸⠀⢸⠀⠀⠀⠀⢸⠀⠀⠀⠀⠀⠀⠀⠀⠈⢦⎦"
      ]
     },
     "metadata": {},
     "output_type": "display_data"
    }
   ],
   "source": [
    "# load the initial guess of θs and θEs\n",
    "# STRATEGY: use the same initial guess for both θs and θEs, for all `z` states\n",
    "mcl.θs  = repeat(vitp |> asg.interpcoef, outer = (1, 2)) # 2 states of `z`\n",
    "mcl.θEs = repeat(vitp |> asg.interpcoef, outer = (1, 2)) # 2 states of `z`\n",
    "\n",
    "\n",
    "# pre-conditioning the collocation model\n",
    "col.precond!(mcl)\n",
    "\n",
    "\n",
    "# validate the model after pre-conditioning\n",
    "col.validate!(mcl)\n",
    "\n",
    "\n",
    "display(mcl.stackΦXperm)"
   ]
  },
  {
   "cell_type": "code",
   "execution_count": null,
   "metadata": {},
   "outputs": [
    {
     "name": "stdout",
     "output_type": "stream",
     "text": [
      "t = 20\n",
      "\t- errAgg = 0.031350645122593335\n",
      "\t- err4z_θs = [8.881784197001252e-15, 8.881784197001252e-15]\n",
      "\t- err4z_θEs = [0.031350645122593335, 0.025851096675289398]\n",
      "t = 40\n",
      "\t- errAgg = 0.003811506552651167\n",
      "\t- err4z_θs = [7.105427357601002e-15, 8.881784197001252e-15]\n",
      "\t- err4z_θEs = [0.003811506552651167, 0.0031428898517340542]\n",
      "t = 60\n",
      "\t- errAgg = 0.0004633902156214731\n",
      "\t- err4z_θs = [8.881784197001252e-15, 1.4210854715202004e-14]\n",
      "\t- err4z_θEs = [0.0004633902156214731, 0.00038210203390676156]\n",
      "Converged in iteration 75 !\n",
      "  0.084298 seconds (905.57 k allocations: 420.763 MiB, 15.42% gc time, 26.00% compilation time)\n"
     ]
    }
   ],
   "source": [
    "# Run: fixed point iteration\n",
    "errTrace, Xnodes, Xnext = let maxiter = 200, showevery = 20, atol = 1E-4\n",
    "\n",
    "    # shape parameters\n",
    "    local N = size(mcl.ΦX, 1)\n",
    "    local K = size(mcl.Pz, 1)\n",
    "    local D = 1 # (k,)\n",
    "    local J = 1 # (z,)\n",
    "\n",
    "    # malloc: the old guess of (θs, θEs); for computing the convergence criterion\n",
    "    local θs_old = copy(mcl.θs)\n",
    "    local θEs_old = copy(mcl.θEs)\n",
    "\n",
    "    # malloc: the optimal U(x,c) and Xnext(x,c) for all `z` states, and Φ(Xnext)\n",
    "    local Us  = similar(mcl.Us)\n",
    "    local Xp  = [\n",
    "        zeros(N, D)\n",
    "        for _ in 1:K\n",
    "    ]\n",
    "    local ΦXp = [\n",
    "        col.spzeros(size(mcl.ΦX))\n",
    "        for _ in 1:K\n",
    "    ]\n",
    "\n",
    "    # pre-cond: the materialized X grid nodes\n",
    "    local Xnodes = [\n",
    "        asg.denormalize(xi, nzer)\n",
    "        for xi in asg.vectorize_x(vitp) |> eachrow\n",
    "    ] |> stack |> permutedims\n",
    "    \n",
    "\n",
    "    # malloc: error trace\n",
    "    local errTrace = []\n",
    "\n",
    "\n",
    "    @time for t in 1:maxiter\n",
    "\n",
    "        # step: useful intermediate variables\n",
    "        inc = pars.z' .* Xnodes[:,1] .^ pars.α .- pars.δ .* Xnodes[:,1]\n",
    "\n",
    "        # step: optimization step (in this example, take it as given)\n",
    "        cOpt = zeros(N,K)\n",
    "        for k in 1:K\n",
    "            cOpt[:,k] .= (1 - pars.β) .* inc[:,k]\n",
    "        end\n",
    "\n",
    "        # eval: U(X) stackings\n",
    "        for k in 1:K\n",
    "            Us[:,k] .= log.(cOpt[:,k] .+ 1E-6)\n",
    "        end\n",
    "\n",
    "        # eval: x' = 𝔛(x,z;c), the state equation; be careful about the state constraints\n",
    "        for k in 1:K\n",
    "            Xp[k] .= pars.z[k] .* Xnodes[:,1] .^ pars.α .- pars.δ .* Xnodes[:,1] .- cOpt[:,k]\n",
    "            clamp!(\n",
    "                Xp[k],\n",
    "                nzer.lb[1],\n",
    "                nzer.ub[1]\n",
    "            )\n",
    "        end\n",
    "\n",
    "        # eval: Φ(X'), be careful about the scaling due to ASG\n",
    "        for k in 1:K\n",
    "            for i in 1:N\n",
    "                ΦXp[k][i,:] = asg.basis_matrix(\n",
    "                    asg.normalize(\n",
    "                        Xp[k][i,:],\n",
    "                        nzer\n",
    "                    ),\n",
    "                    vitp\n",
    "                )\n",
    "            end\n",
    "        end\n",
    "\n",
    "        # load: the stacking U(X), and {Φ(X'|z)} to the collocation model\n",
    "        mcl.Us = Us\n",
    "        mcl.ΦXnext = ΦXp\n",
    "\n",
    "        # solve: the fixed point problem\n",
    "        col.update_θ!(mcl)\n",
    "\n",
    "        # compute the convergence criterion\n",
    "        err4z_θs = maximum(\n",
    "            abs,\n",
    "            mcl.θs .- θs_old, \n",
    "            dims = 1\n",
    "        ) |> vec\n",
    "        err4z_θEs = maximum(\n",
    "            abs,\n",
    "            mcl.θEs .- θEs_old, \n",
    "            dims = 1\n",
    "        ) |> vec\n",
    "\n",
    "        errAgg = max(\n",
    "            maximum(err4z_θs),\n",
    "            maximum(err4z_θEs)\n",
    "        )\n",
    "        push!(errTrace, errAgg)\n",
    "\n",
    "        # report\n",
    "        if t % showevery == 0\n",
    "            println(\"t = $t\")\n",
    "            println(\"\\t- errAgg = $errAgg\")\n",
    "            println(\"\\t- err4z_θs = $err4z_θs\")\n",
    "            println(\"\\t- err4z_θEs = $err4z_θEs\")\n",
    "        end\n",
    "\n",
    "        # check convergence\n",
    "        if errAgg < atol\n",
    "            println(\"Converged in iteration $t !\")\n",
    "            break\n",
    "        end\n",
    "\n",
    "        # update the old guess\n",
    "        copyto!(θs_old, mcl.θs)\n",
    "        copyto!(θEs_old, mcl.θEs)\n",
    "\n",
    "    end # t\n",
    "\n",
    "    errTrace, Xnodes, Xp\n",
    "end; # let"
   ]
  },
  {
   "cell_type": "code",
   "execution_count": 113,
   "metadata": {},
   "outputs": [
    {
     "data": {
      "text/plain": [
       "       ⠀⠀⠀⠀⠀⠀⠀⠀⠀⠀⠀\u001b[97;1mlog(aggregate error)\u001b[0m⠀⠀⠀⠀⠀⠀⠀⠀⠀⠀⠀ \n",
       "       \u001b[38;5;8m┌────────────────────────────────────────┐\u001b[0m \n",
       "    \u001b[38;5;8m10\u001b[0m \u001b[38;5;8m│\u001b[0m⠀⠀⠀⠀⠀⠀⠀⠀⠀⠀⠀⠀⠀⠀⠀⠀⠀⠀⠀⠀⠀⠀⠀⠀⠀⠀⠀⠀⠀⠀⠀⠀⠀⠀⠀⠀⠀⠀⠀⠀\u001b[38;5;8m│\u001b[0m \u001b[38;5;8m\u001b[0m\n",
       "      \u001b[38;5;8m\u001b[0m \u001b[38;5;8m│\u001b[0m⠀⠀⠀⠀⠀⠀⠀⠀⠀⠀⠀⠀⠀⠀⠀⠀⠀⠀⠀⠀⠀⠀⠀⠀⠀⠀⠀⠀⠀⠀⠀⠀⠀⠀⠀⠀⠀⠀⠀⠀\u001b[38;5;8m│\u001b[0m \u001b[38;5;8m\u001b[0m\n",
       "      \u001b[38;5;8m\u001b[0m \u001b[38;5;8m│\u001b[0m⠀⠀⠀⠀⠀⠀⠀⠀⠀⠀⠀⠀⠀⠀⠀⠀⠀⠀⠀⠀⠀⠀⠀⠀⠀⠀⠀⠀⠀⠀⠀⠀⠀⠀⠀⠀⠀⠀⠀⠀\u001b[38;5;8m│\u001b[0m \u001b[38;5;8m\u001b[0m\n",
       "      \u001b[38;5;8m\u001b[0m \u001b[38;5;8m│\u001b[0m⠀⠀⠀⠀⠀⠀⠀⠀⠀⠀⠀⠀⠀⠀⠀⠀⠀⠀⠀⠀⠀⠀⠀⠀⠀⠀⠀⠀⠀⠀⠀⠀⠀⠀⠀⠀⠀⠀⠀⠀\u001b[38;5;8m│\u001b[0m \u001b[38;5;8m\u001b[0m\n",
       "      \u001b[38;5;8m\u001b[0m \u001b[38;5;8m│\u001b[0m⠀⠀⠀⠀⠀⠀⠀⠀⠀⠀⠀⠀⠀⠀⠀⠀⠀⠀⠀⠀⠀⠀⠀⠀⠀⠀⠀⠀⠀⠀⠀⠀⠀⠀⠀⠀⠀⠀⠀⠀\u001b[38;5;8m│\u001b[0m \u001b[38;5;8m\u001b[0m\n",
       "      \u001b[38;5;8m\u001b[0m \u001b[38;5;8m│\u001b[0m\u001b[38;5;2m⡄\u001b[0m⠀⠀⠀⠀⠀⠀⠀⠀⠀⠀⠀⠀⠀⠀⠀⠀⠀⠀⠀⠀⠀⠀⠀⠀⠀⠀⠀⠀⠀⠀⠀⠀⠀⠀⠀⠀⠀⠀⠀\u001b[38;5;8m│\u001b[0m \u001b[38;5;8m\u001b[0m\n",
       "      \u001b[38;5;8m\u001b[0m \u001b[38;5;8m│\u001b[0m\u001b[38;5;2m⢣\u001b[0m⠀⠀⠀⠀⠀⠀⠀⠀⠀⠀⠀⠀⠀⠀⠀⠀⠀⠀⠀⠀⠀⠀⠀⠀⠀⠀⠀⠀⠀⠀⠀⠀⠀⠀⠀⠀⠀⠀⠀\u001b[38;5;8m│\u001b[0m \u001b[38;5;8m\u001b[0m\n",
       "      \u001b[38;5;8m\u001b[0m \u001b[38;5;8m│\u001b[0m\u001b[38;5;2m⠼\u001b[0m\u001b[38;5;2m⡤\u001b[0m⠤⠤⠤⠤⠤⠤⠤⠤⠤⠤⠤⠤⠤⠤⠤⠤⠤⠤⠤⠤⠤⠤⠤⠤⠤⠤⠤⠤⠤⠤⠤⠤⠤⠤⠤⠤⠤⠤\u001b[38;5;8m│\u001b[0m \u001b[38;5;8m\u001b[0m\n",
       "      \u001b[38;5;8m\u001b[0m \u001b[38;5;8m│\u001b[0m⠀\u001b[38;5;2m⠣\u001b[0m\u001b[38;5;2m⣀\u001b[0m⠀⠀⠀⠀⠀⠀⠀⠀⠀⠀⠀⠀⠀⠀⠀⠀⠀⠀⠀⠀⠀⠀⠀⠀⠀⠀⠀⠀⠀⠀⠀⠀⠀⠀⠀⠀⠀\u001b[38;5;8m│\u001b[0m \u001b[38;5;8m\u001b[0m\n",
       "      \u001b[38;5;8m\u001b[0m \u001b[38;5;8m│\u001b[0m⠀⠀⠀\u001b[38;5;2m⠉\u001b[0m\u001b[38;5;2m⠑\u001b[0m\u001b[38;5;2m⠒\u001b[0m\u001b[38;5;2m⠤\u001b[0m\u001b[38;5;2m⠤\u001b[0m\u001b[38;5;2m⣀\u001b[0m\u001b[38;5;2m⡀\u001b[0m⠀⠀⠀⠀⠀⠀⠀⠀⠀⠀⠀⠀⠀⠀⠀⠀⠀⠀⠀⠀⠀⠀⠀⠀⠀⠀⠀⠀⠀⠀\u001b[38;5;8m│\u001b[0m \u001b[38;5;8m\u001b[0m\n",
       "      \u001b[38;5;8m\u001b[0m \u001b[38;5;8m│\u001b[0m⠀⠀⠀⠀⠀⠀⠀⠀⠀\u001b[38;5;2m⠈\u001b[0m\u001b[38;5;2m⠉\u001b[0m\u001b[38;5;2m⠓\u001b[0m\u001b[38;5;2m⠒\u001b[0m\u001b[38;5;2m⠤\u001b[0m\u001b[38;5;2m⠤\u001b[0m\u001b[38;5;2m⣀\u001b[0m\u001b[38;5;2m⡀\u001b[0m⠀⠀⠀⠀⠀⠀⠀⠀⠀⠀⠀⠀⠀⠀⠀⠀⠀⠀⠀⠀⠀⠀⠀\u001b[38;5;8m│\u001b[0m \u001b[38;5;8m\u001b[0m\n",
       "      \u001b[38;5;8m\u001b[0m \u001b[38;5;8m│\u001b[0m⠀⠀⠀⠀⠀⠀⠀⠀⠀⠀⠀⠀⠀⠀⠀⠀\u001b[38;5;2m⠈\u001b[0m\u001b[38;5;2m⠉\u001b[0m\u001b[38;5;2m⠒\u001b[0m\u001b[38;5;2m⠢\u001b[0m\u001b[38;5;2m⠤\u001b[0m\u001b[38;5;2m⢄\u001b[0m\u001b[38;5;2m⣀\u001b[0m\u001b[38;5;2m⡀\u001b[0m⠀⠀⠀⠀⠀⠀⠀⠀⠀⠀⠀⠀⠀⠀⠀⠀\u001b[38;5;8m│\u001b[0m \u001b[38;5;8m\u001b[0m\n",
       "      \u001b[38;5;8m\u001b[0m \u001b[38;5;8m│\u001b[0m⠀⠀⠀⠀⠀⠀⠀⠀⠀⠀⠀⠀⠀⠀⠀⠀⠀⠀⠀⠀⠀⠀⠀\u001b[38;5;2m⠈\u001b[0m\u001b[38;5;2m⠉\u001b[0m\u001b[38;5;2m⠒\u001b[0m\u001b[38;5;2m⠢\u001b[0m\u001b[38;5;2m⠤\u001b[0m\u001b[38;5;2m⢄\u001b[0m\u001b[38;5;2m⣀\u001b[0m⠀⠀⠀⠀⠀⠀⠀⠀⠀⠀\u001b[38;5;8m│\u001b[0m \u001b[38;5;8m\u001b[0m\n",
       "      \u001b[38;5;8m\u001b[0m \u001b[38;5;8m│\u001b[0m⠀⠀⠀⠀⠀⠀⠀⠀⠀⠀⠀⠀⠀⠀⠀⠀⠀⠀⠀⠀⠀⠀⠀⠀⠀⠀⠀⠀⠀⠀\u001b[38;5;2m⠉\u001b[0m\u001b[38;5;2m⠑\u001b[0m\u001b[38;5;2m⠒\u001b[0m\u001b[38;5;2m⠒\u001b[0m\u001b[38;5;2m⠤\u001b[0m\u001b[38;5;2m⢄\u001b[0m\u001b[38;5;2m⣀\u001b[0m⠀⠀⠀\u001b[38;5;8m│\u001b[0m \u001b[38;5;8m\u001b[0m\n",
       "   \u001b[38;5;8m-10\u001b[0m \u001b[38;5;8m│\u001b[0m⠀⠀⠀⠀⠀⠀⠀⠀⠀⠀⠀⠀⠀⠀⠀⠀⠀⠀⠀⠀⠀⠀⠀⠀⠀⠀⠀⠀⠀⠀⠀⠀⠀⠀⠀⠀⠀\u001b[38;5;2m⠉\u001b[0m\u001b[38;5;2m⠑\u001b[0m\u001b[38;5;2m⠒\u001b[0m\u001b[38;5;8m│\u001b[0m \u001b[38;5;8m\u001b[0m\n",
       "       \u001b[38;5;8m└────────────────────────────────────────┘\u001b[0m \n",
       "       ⠀\u001b[38;5;8m1\u001b[0m⠀⠀⠀⠀⠀⠀⠀⠀⠀⠀⠀⠀⠀⠀⠀⠀⠀⠀\u001b[38;5;8m\u001b[0m⠀⠀⠀⠀⠀⠀⠀⠀⠀⠀⠀⠀⠀⠀⠀⠀⠀⠀⠀\u001b[38;5;8m75\u001b[0m⠀ \n",
       "       ⠀⠀⠀⠀⠀⠀⠀⠀⠀⠀⠀⠀⠀⠀⠀⠀⠀⠀⠀⠀⠀t⠀⠀⠀⠀⠀⠀⠀⠀⠀⠀⠀⠀⠀⠀⠀⠀⠀⠀⠀⠀ "
      ]
     },
     "metadata": {},
     "output_type": "display_data"
    }
   ],
   "source": [
    "# visualize the convergence\n",
    "import UnicodePlots as up\n",
    "\n",
    "up.lineplot(\n",
    "    log.(errTrace), \n",
    "    title = \"log(aggregate error)\", \n",
    "    xlabel = \"t\", ylabel = \"\",\n",
    "    xlim = (1, length(errTrace))\n",
    ")"
   ]
  },
  {
   "cell_type": "code",
   "execution_count": 114,
   "metadata": {},
   "outputs": [
    {
     "data": {
      "text/plain": [
       "       ⠀⠀⠀⠀⠀⠀⠀⠀⠀⠀⠀⠀⠀⠀\u001b[97;1mValue function\u001b[0m⠀⠀⠀⠀⠀⠀⠀⠀⠀⠀⠀⠀⠀⠀ \n",
       "       \u001b[38;5;8m┌────────────────────────────────────────┐\u001b[0m \n",
       "   \u001b[38;5;8m-10\u001b[0m \u001b[38;5;8m│\u001b[0m⠀⠀⠀⠀⠀⠀⠀⠀⠀⠀⠀⠀⠀⠀⠀⠀⠀⠀⠀⠀⠀⠀⠀⠀⠀⠀⠀⠀⠀⠀⠀⠀⠀⠀⠀⠀⠀⠀⠀⠀\u001b[38;5;8m│\u001b[0m \u001b[38;5;8m\u001b[0m\n",
       "      \u001b[38;5;8m\u001b[0m \u001b[38;5;8m│\u001b[0m⠀⠀⠀⠀⠀⠀⠀⠀⠀⠀⠀⠀⠀⠀⠀⠀⠀⠀⠀⠀⠀⠀⠀⠀⠀⠀⠀⠀⠀⠀⠀⠀⠀⠀⠀⠀⠀⠀⠀⠀\u001b[38;5;8m│\u001b[0m \u001b[38;5;8m\u001b[0m\n",
       "      \u001b[38;5;8m\u001b[0m \u001b[38;5;8m│\u001b[0m⠀⠀⠀⠀⠀⠀⠀⠀⠀⠀⠀⠀⠀⠀⠀⠀⠀⠀⠀⠀⠀⠀⠀⠀⠀⠀⠀⠀⠀⠀⠀⠀⠀⠀⠀⠀⠀⠀⠀⠀\u001b[38;5;8m│\u001b[0m \u001b[38;5;8m\u001b[0m\n",
       "      \u001b[38;5;8m\u001b[0m \u001b[38;5;8m│\u001b[0m⠀⠀⠀⠀⠀⠀⠀⠀⠀⠀⠀⠀⠀⠀⠀⠀⠀⠀⠀⠀⠀⠀⠀⠀⠀⠀⠀⠀⠀⠀⠀⠀⠀⠀⠀⠀⠀⠀⠀⠀\u001b[38;5;8m│\u001b[0m \u001b[38;5;8m\u001b[0m\n",
       "      \u001b[38;5;8m\u001b[0m \u001b[38;5;8m│\u001b[0m⠀⠀⠀⠀⠀⠀⠀⠀⠀⠀⠀⠀⠀⠀⠀⠀⠀⠀\u001b[38;5;2m⢀\u001b[0m\u001b[38;5;2m⣀\u001b[0m\u001b[38;5;2m⣀\u001b[0m\u001b[38;5;2m⣀\u001b[0m\u001b[38;5;2m⣀\u001b[0m\u001b[38;5;2m⣀\u001b[0m\u001b[38;5;2m⣀\u001b[0m\u001b[38;5;2m⡤\u001b[0m\u001b[38;5;2m⠤\u001b[0m\u001b[38;5;2m⠤\u001b[0m\u001b[38;5;2m⠤\u001b[0m\u001b[38;5;2m⠤\u001b[0m\u001b[38;5;2m⠤\u001b[0m\u001b[38;5;2m⠤\u001b[0m\u001b[38;5;2m⠤\u001b[0m\u001b[38;5;2m⠤\u001b[0m\u001b[38;5;2m⠤\u001b[0m\u001b[38;5;2m⠤\u001b[0m\u001b[38;5;2m⠤\u001b[0m\u001b[38;5;2m⠤\u001b[0m\u001b[38;5;2m⠤\u001b[0m\u001b[38;5;2m⠤\u001b[0m\u001b[38;5;8m│\u001b[0m \u001b[38;5;8m\u001b[0m\n",
       "      \u001b[38;5;8m\u001b[0m \u001b[38;5;8m│\u001b[0m⠀⠀⠀⠀⠀⠀⠀\u001b[38;5;2m⢀\u001b[0m\u001b[38;5;2m⣀\u001b[0m\u001b[38;5;2m⠤\u001b[0m\u001b[38;5;2m⠤\u001b[0m\u001b[38;5;2m⠔\u001b[0m\u001b[38;5;2m⠒\u001b[0m\u001b[38;5;2m⠒\u001b[0m\u001b[38;5;2m⠋\u001b[0m\u001b[38;5;2m⠉\u001b[0m\u001b[38;5;2m⠉\u001b[0m\u001b[38;5;2m⠉\u001b[0m\u001b[38;5;2m⠁\u001b[0m⠀⠀⠀⠀⠀⠀⠀⠀⠀⠀⠀⠀⠀⠀⠀⠀⠀⠀⠀⠀⠀\u001b[38;5;8m│\u001b[0m \u001b[38;5;8m\u001b[0m\n",
       "      \u001b[38;5;8m\u001b[0m \u001b[38;5;8m│\u001b[0m⠀⠀⠀\u001b[38;5;2m⣀\u001b[0m\u001b[38;5;2m⠤\u001b[0m\u001b[38;5;2m⠒\u001b[0m\u001b[38;5;2m⠉\u001b[0m\u001b[38;5;2m⠁\u001b[0m⠀⠀⠀⠀⠀⠀⠀⠀⠀⠀⠀⠀⠀⠀⠀⠀⠀⠀⠀⠀⠀⠀⠀⠀⠀⠀⠀⠀⠀⠀⠀⠀\u001b[38;5;8m│\u001b[0m \u001b[38;5;8m\u001b[0m\n",
       "      \u001b[38;5;8m\u001b[0m \u001b[38;5;8m│\u001b[0m⠀\u001b[38;5;2m⢀\u001b[0m\u001b[38;5;2m⠜\u001b[0m\u001b[38;5;2m⠁\u001b[0m⠀⠀⠀⠀⠀⠀⠀⠀⠀⠀⠀⠀⠀⠀⠀⠀⠀⠀⠀⠀⠀⠀⠀⠀⠀⠀⠀⠀⠀⠀⠀⠀⠀⠀⠀⠀\u001b[38;5;8m│\u001b[0m \u001b[38;5;8m\u001b[0m\n",
       "      \u001b[38;5;8m\u001b[0m \u001b[38;5;8m│\u001b[0m\u001b[38;5;2m⠠\u001b[0m\u001b[38;5;2m⠊\u001b[0m⠀⠀⠀⠀⠀⠀⠀⠀⠀⠀⠀⠀⠀⠀⠀⠀⠀⠀⠀⠀⠀⠀⠀⠀⠀⠀⠀⠀⠀⠀⠀⠀⠀⠀⠀⠀⠀⠀\u001b[38;5;8m│\u001b[0m \u001b[38;5;8m\u001b[0m\n",
       "      \u001b[38;5;8m\u001b[0m \u001b[38;5;8m│\u001b[0m\u001b[38;5;2m⠐\u001b[0m⠀⠀⠀⠀⠀⠀⠀⠀⠀⠀⠀⠀⠀⠀⠀⠀⠀⠀⠀⠀⠀⠀⠀⠀⠀⠀⠀⠀⠀⠀⠀⠀⠀⠀⠀⠀⠀⠀⠀\u001b[38;5;8m│\u001b[0m \u001b[38;5;8m\u001b[0m\n",
       "      \u001b[38;5;8m\u001b[0m \u001b[38;5;8m│\u001b[0m\u001b[38;5;2m⠁\u001b[0m⠀⠀⠀⠀⠀⠀⠀⠀⠀⠀⠀⠀⠀⠀⠀⠀⠀⠀⠀⠀⠀⠀⠀⠀⠀⠀⠀⠀⠀⠀⠀⠀⠀⠀⠀⠀⠀⠀⠀\u001b[38;5;8m│\u001b[0m \u001b[38;5;8m\u001b[0m\n",
       "      \u001b[38;5;8m\u001b[0m \u001b[38;5;8m│\u001b[0m⠀⠀⠀⠀⠀⠀⠀⠀⠀⠀⠀⠀⠀⠀⠀⠀⠀⠀⠀⠀⠀⠀⠀⠀⠀⠀⠀⠀⠀⠀⠀⠀⠀⠀⠀⠀⠀⠀⠀⠀\u001b[38;5;8m│\u001b[0m \u001b[38;5;8m\u001b[0m\n",
       "      \u001b[38;5;8m\u001b[0m \u001b[38;5;8m│\u001b[0m⠀⠀⠀⠀⠀⠀⠀⠀⠀⠀⠀⠀⠀⠀⠀⠀⠀⠀⠀⠀⠀⠀⠀⠀⠀⠀⠀⠀⠀⠀⠀⠀⠀⠀⠀⠀⠀⠀⠀⠀\u001b[38;5;8m│\u001b[0m \u001b[38;5;8m\u001b[0m\n",
       "      \u001b[38;5;8m\u001b[0m \u001b[38;5;8m│\u001b[0m\u001b[38;5;2m⠂\u001b[0m⠀⠀⠀⠀⠀⠀⠀⠀⠀⠀⠀⠀⠀⠀⠀⠀⠀⠀⠀⠀⠀⠀⠀⠀⠀⠀⠀⠀⠀⠀⠀⠀⠀⠀⠀⠀⠀⠀⠀\u001b[38;5;8m│\u001b[0m \u001b[38;5;8m\u001b[0m\n",
       "   \u001b[38;5;8m-40\u001b[0m \u001b[38;5;8m│\u001b[0m⠀⠀⠀⠀⠀⠀⠀⠀⠀⠀⠀⠀⠀⠀⠀⠀⠀⠀⠀⠀⠀⠀⠀⠀⠀⠀⠀⠀⠀⠀⠀⠀⠀⠀⠀⠀⠀⠀⠀⠀\u001b[38;5;8m│\u001b[0m \u001b[38;5;8m\u001b[0m\n",
       "       \u001b[38;5;8m└────────────────────────────────────────┘\u001b[0m \n",
       "       ⠀\u001b[38;5;8m0\u001b[0m⠀⠀⠀⠀⠀⠀⠀⠀⠀⠀⠀⠀⠀⠀⠀⠀⠀⠀\u001b[38;5;8m\u001b[0m⠀⠀⠀⠀⠀⠀⠀⠀⠀⠀⠀⠀⠀⠀⠀⠀⠀⠀⠀\u001b[38;5;8m10\u001b[0m⠀ \n",
       "       ⠀⠀⠀⠀⠀⠀⠀⠀⠀⠀⠀⠀⠀⠀⠀⠀⠀⠀⠀⠀⠀k⠀⠀⠀⠀⠀⠀⠀⠀⠀⠀⠀⠀⠀⠀⠀⠀⠀⠀⠀⠀ "
      ]
     },
     "metadata": {},
     "output_type": "display_data"
    }
   ],
   "source": [
    "# visualize the value function\n",
    "up.scatterplot(Xnodes[:], mcl.ΦX * mcl.θs[:,1], title = \"Value function\", xlabel = \"k\")"
   ]
  },
  {
   "cell_type": "code",
   "execution_count": 115,
   "metadata": {},
   "outputs": [
    {
     "data": {
      "text/plain": [
       "       ⠀⠀⠀⠀⠀⠀⠀⠀⠀⠀\u001b[97;1mExpected value function\u001b[0m⠀⠀⠀⠀⠀⠀⠀⠀⠀ \n",
       "       \u001b[38;5;8m┌────────────────────────────────────────┐\u001b[0m \n",
       "   \u001b[38;5;8m-26\u001b[0m \u001b[38;5;8m│\u001b[0m⠀⠀⠀⠀⠀⠀⠀⠀⠀⠀⠀⠀⠀⠀⠀⠀⠀⠀⠀⠀⠀⠀⠀⠀⠀⠀⠀⠀⠀⠀⠀⠀⠀⠀⠀⠀⠀⠀⠀⠀\u001b[38;5;8m│\u001b[0m \u001b[38;5;8m\u001b[0m\n",
       "      \u001b[38;5;8m\u001b[0m \u001b[38;5;8m│\u001b[0m⠀⠀⠀⠀⠀⠀⠀⠀⠀⠀⠀⠀⠀⠀⠀⠀⠀⠀⠀⠀⠀⠀⠀⠀⠀⠀⠀⠀⠀⠀⠀⠀⠀⠀⠀⠀⠀⠀⠀⠀\u001b[38;5;8m│\u001b[0m \u001b[38;5;8m\u001b[0m\n",
       "      \u001b[38;5;8m\u001b[0m \u001b[38;5;8m│\u001b[0m⠀⠀⠀⠀⠀⠀⠀⠀⠀⠀⠀⠀⠀⠀⠀⠀⠀⠀⠀⠀⠀⠀⠀⠀⠀⠀⠀⠀⠀⠀⠀⠀⠀⠀⠀⠀⠀⠀⠀⠀\u001b[38;5;8m│\u001b[0m \u001b[38;5;8m\u001b[0m\n",
       "      \u001b[38;5;8m\u001b[0m \u001b[38;5;8m│\u001b[0m⠀⠀⠀⠀⠀⠀⠀⠀⠀⠀⠀\u001b[38;5;2m⢀\u001b[0m\u001b[38;5;2m⣀\u001b[0m\u001b[38;5;2m⣀\u001b[0m\u001b[38;5;2m⡤\u001b[0m\u001b[38;5;2m⠤\u001b[0m\u001b[38;5;2m⠤\u001b[0m\u001b[38;5;2m⠤\u001b[0m\u001b[38;5;2m⠒\u001b[0m\u001b[38;5;2m⠒\u001b[0m\u001b[38;5;2m⠒\u001b[0m\u001b[38;5;2m⠒\u001b[0m\u001b[38;5;2m⠒\u001b[0m\u001b[38;5;2m⠒\u001b[0m\u001b[38;5;2m⠋\u001b[0m\u001b[38;5;2m⠉\u001b[0m\u001b[38;5;2m⠉\u001b[0m\u001b[38;5;2m⠉\u001b[0m\u001b[38;5;2m⠉\u001b[0m\u001b[38;5;2m⠉\u001b[0m\u001b[38;5;2m⠉\u001b[0m\u001b[38;5;2m⠉\u001b[0m\u001b[38;5;2m⠉\u001b[0m\u001b[38;5;2m⠉\u001b[0m\u001b[38;5;2m⠉\u001b[0m\u001b[38;5;2m⠉\u001b[0m\u001b[38;5;2m⠉\u001b[0m\u001b[38;5;2m⠉\u001b[0m\u001b[38;5;2m⠉\u001b[0m\u001b[38;5;2m⠉\u001b[0m\u001b[38;5;8m│\u001b[0m \u001b[38;5;8m\u001b[0m\n",
       "      \u001b[38;5;8m\u001b[0m \u001b[38;5;8m│\u001b[0m⠀⠀⠀⠀⠀\u001b[38;5;2m⢀\u001b[0m\u001b[38;5;2m⣠\u001b[0m\u001b[38;5;2m⠤\u001b[0m\u001b[38;5;2m⠒\u001b[0m\u001b[38;5;2m⠊\u001b[0m\u001b[38;5;2m⠉\u001b[0m\u001b[38;5;2m⠁\u001b[0m⠀⠀⠀⠀⠀⠀⠀⠀⠀⠀⠀⠀⠀⠀⠀⠀⠀⠀⠀⠀⠀⠀⠀⠀⠀⠀⠀⠀\u001b[38;5;8m│\u001b[0m \u001b[38;5;8m\u001b[0m\n",
       "      \u001b[38;5;8m\u001b[0m \u001b[38;5;8m│\u001b[0m⠀⠀⠀\u001b[38;5;2m⡠\u001b[0m\u001b[38;5;2m⠖\u001b[0m\u001b[38;5;2m⠉\u001b[0m⠀⠀⠀⠀⠀⠀⠀⠀⠀⠀⠀⠀⠀⠀⠀⠀⠀⠀⠀⠀⠀⠀⠀⠀⠀⠀⠀⠀⠀⠀⠀⠀⠀⠀\u001b[38;5;8m│\u001b[0m \u001b[38;5;8m\u001b[0m\n",
       "      \u001b[38;5;8m\u001b[0m \u001b[38;5;8m│\u001b[0m⠀\u001b[38;5;2m⢀\u001b[0m\u001b[38;5;2m⠜\u001b[0m⠀⠀⠀⠀⠀⠀⠀⠀⠀⠀⠀⠀⠀⠀⠀⠀⠀⠀⠀⠀⠀⠀⠀⠀⠀⠀⠀⠀⠀⠀⠀⠀⠀⠀⠀⠀⠀\u001b[38;5;8m│\u001b[0m \u001b[38;5;8m\u001b[0m\n",
       "      \u001b[38;5;8m\u001b[0m \u001b[38;5;8m│\u001b[0m⠀\u001b[38;5;2m⠌\u001b[0m⠀⠀⠀⠀⠀⠀⠀⠀⠀⠀⠀⠀⠀⠀⠀⠀⠀⠀⠀⠀⠀⠀⠀⠀⠀⠀⠀⠀⠀⠀⠀⠀⠀⠀⠀⠀⠀⠀\u001b[38;5;8m│\u001b[0m \u001b[38;5;8m\u001b[0m\n",
       "      \u001b[38;5;8m\u001b[0m \u001b[38;5;8m│\u001b[0m\u001b[38;5;2m⢈\u001b[0m⠀⠀⠀⠀⠀⠀⠀⠀⠀⠀⠀⠀⠀⠀⠀⠀⠀⠀⠀⠀⠀⠀⠀⠀⠀⠀⠀⠀⠀⠀⠀⠀⠀⠀⠀⠀⠀⠀⠀\u001b[38;5;8m│\u001b[0m \u001b[38;5;8m\u001b[0m\n",
       "      \u001b[38;5;8m\u001b[0m \u001b[38;5;8m│\u001b[0m⠀⠀⠀⠀⠀⠀⠀⠀⠀⠀⠀⠀⠀⠀⠀⠀⠀⠀⠀⠀⠀⠀⠀⠀⠀⠀⠀⠀⠀⠀⠀⠀⠀⠀⠀⠀⠀⠀⠀⠀\u001b[38;5;8m│\u001b[0m \u001b[38;5;8m\u001b[0m\n",
       "      \u001b[38;5;8m\u001b[0m \u001b[38;5;8m│\u001b[0m\u001b[38;5;2m⠁\u001b[0m⠀⠀⠀⠀⠀⠀⠀⠀⠀⠀⠀⠀⠀⠀⠀⠀⠀⠀⠀⠀⠀⠀⠀⠀⠀⠀⠀⠀⠀⠀⠀⠀⠀⠀⠀⠀⠀⠀⠀\u001b[38;5;8m│\u001b[0m \u001b[38;5;8m\u001b[0m\n",
       "      \u001b[38;5;8m\u001b[0m \u001b[38;5;8m│\u001b[0m⠀⠀⠀⠀⠀⠀⠀⠀⠀⠀⠀⠀⠀⠀⠀⠀⠀⠀⠀⠀⠀⠀⠀⠀⠀⠀⠀⠀⠀⠀⠀⠀⠀⠀⠀⠀⠀⠀⠀⠀\u001b[38;5;8m│\u001b[0m \u001b[38;5;8m\u001b[0m\n",
       "      \u001b[38;5;8m\u001b[0m \u001b[38;5;8m│\u001b[0m⠀⠀⠀⠀⠀⠀⠀⠀⠀⠀⠀⠀⠀⠀⠀⠀⠀⠀⠀⠀⠀⠀⠀⠀⠀⠀⠀⠀⠀⠀⠀⠀⠀⠀⠀⠀⠀⠀⠀⠀\u001b[38;5;8m│\u001b[0m \u001b[38;5;8m\u001b[0m\n",
       "      \u001b[38;5;8m\u001b[0m \u001b[38;5;8m│\u001b[0m⠀⠀⠀⠀⠀⠀⠀⠀⠀⠀⠀⠀⠀⠀⠀⠀⠀⠀⠀⠀⠀⠀⠀⠀⠀⠀⠀⠀⠀⠀⠀⠀⠀⠀⠀⠀⠀⠀⠀⠀\u001b[38;5;8m│\u001b[0m \u001b[38;5;8m\u001b[0m\n",
       "   \u001b[38;5;8m-29\u001b[0m \u001b[38;5;8m│\u001b[0m\u001b[38;5;2m⠂\u001b[0m⠀⠀⠀⠀⠀⠀⠀⠀⠀⠀⠀⠀⠀⠀⠀⠀⠀⠀⠀⠀⠀⠀⠀⠀⠀⠀⠀⠀⠀⠀⠀⠀⠀⠀⠀⠀⠀⠀⠀\u001b[38;5;8m│\u001b[0m \u001b[38;5;8m\u001b[0m\n",
       "       \u001b[38;5;8m└────────────────────────────────────────┘\u001b[0m \n",
       "       ⠀\u001b[38;5;8m0\u001b[0m⠀⠀⠀⠀⠀⠀⠀⠀⠀⠀⠀⠀⠀⠀⠀⠀⠀⠀\u001b[38;5;8m\u001b[0m⠀⠀⠀⠀⠀⠀⠀⠀⠀⠀⠀⠀⠀⠀⠀⠀⠀⠀⠀\u001b[38;5;8m10\u001b[0m⠀ \n",
       "       ⠀⠀⠀⠀⠀⠀⠀⠀⠀⠀⠀⠀⠀⠀⠀⠀⠀⠀⠀⠀⠀k⠀⠀⠀⠀⠀⠀⠀⠀⠀⠀⠀⠀⠀⠀⠀⠀⠀⠀⠀⠀ "
      ]
     },
     "metadata": {},
     "output_type": "display_data"
    }
   ],
   "source": [
    "# visualize the expected value function\n",
    "up.scatterplot(Xnodes[:], mcl.ΦX * mcl.θEs[:,1], title = \"Expected value function\", xlabel = \"k\")"
   ]
  },
  {
   "cell_type": "code",
   "execution_count": 119,
   "metadata": {},
   "outputs": [
    {
     "data": {
      "text/plain": [
       "                   ⠀⠀⠀⠀⠀⠀⠀⠀⠀⠀\u001b[97;1mPolicy function k'(k,z)\u001b[0m⠀⠀⠀⠀⠀⠀⠀⠀⠀               \n",
       "                   \u001b[38;5;8m┌────────────────────────────────────────┐\u001b[0m               \n",
       "           \u001b[38;5;8m1.70488\u001b[0m \u001b[38;5;8m│\u001b[0m⠀⠀⠀⠀⠀⠀\u001b[38;5;1m⡼\u001b[0m⠀⠀⠀⠀⠀⠀⠀⠀⠀⠀⠀⠀⠀⠀⠀⠀⠀⠀\u001b[38;5;4m⣀\u001b[0m\u001b[38;5;4m⣀\u001b[0m\u001b[38;5;4m⣀\u001b[0m\u001b[38;5;4m⠤\u001b[0m\u001b[38;5;4m⠤\u001b[0m\u001b[38;5;4m⠤\u001b[0m\u001b[38;5;4m⠒\u001b[0m\u001b[38;5;4m⠒\u001b[0m\u001b[38;5;4m⠒\u001b[0m\u001b[38;5;4m⠒\u001b[0m\u001b[38;5;4m⠉\u001b[0m\u001b[38;5;4m⠉\u001b[0m\u001b[38;5;4m⠉\u001b[0m\u001b[38;5;4m⠉\u001b[0m\u001b[38;5;4m⠉\u001b[0m\u001b[38;5;8m│\u001b[0m \u001b[38;5;4mz = 1.2\u001b[0m       \n",
       "                  \u001b[38;5;8m\u001b[0m \u001b[38;5;8m│\u001b[0m⠀⠀⠀⠀⠀\u001b[38;5;1m⢀\u001b[0m\u001b[38;5;1m⡇\u001b[0m⠀⠀⠀⠀⠀⠀⠀⠀⠀⠀\u001b[38;5;4m⣀\u001b[0m\u001b[38;5;4m⡠\u001b[0m\u001b[38;5;4m⠤\u001b[0m\u001b[38;5;4m⠔\u001b[0m\u001b[38;5;4m⠒\u001b[0m\u001b[38;5;4m⠚\u001b[0m\u001b[38;5;4m⠉\u001b[0m\u001b[38;5;4m⠉\u001b[0m\u001b[38;5;4m⠁\u001b[0m⠀⠀⠀⠀⠀⠀⠀⠀⠀⠀⠀⠀⠀⠀\u001b[38;5;8m│\u001b[0m \u001b[38;5;1m45-degree line\u001b[0m\n",
       "                  \u001b[38;5;8m\u001b[0m \u001b[38;5;8m│\u001b[0m⠀⠀⠀⠀⠀\u001b[38;5;1m⣸\u001b[0m⠀⠀⠀⠀⠀\u001b[38;5;4m⢀\u001b[0m\u001b[38;5;4m⣀\u001b[0m\u001b[38;5;4m⠤\u001b[0m\u001b[38;5;4m⠖\u001b[0m\u001b[38;5;4m⠊\u001b[0m\u001b[38;5;4m⠉\u001b[0m⠀⠀⠀⠀⠀⠀⠀⠀⠀⠀⠀⠀⠀⠀⠀⠀⠀⠀⠀⠀⠀⠀⠀\u001b[38;5;8m│\u001b[0m \u001b[38;5;2mz = 0.8\u001b[0m       \n",
       "                  \u001b[38;5;8m\u001b[0m \u001b[38;5;8m│\u001b[0m⠀⠀⠀⠀⠀\u001b[38;5;1m⡇\u001b[0m⠀⠀\u001b[38;5;4m⣀\u001b[0m\u001b[38;5;4m⠤\u001b[0m\u001b[38;5;4m⠚\u001b[0m\u001b[38;5;4m⠉\u001b[0m⠀⠀⠀⠀⠀⠀⠀⠀⠀⠀⠀⠀⠀⠀⠀⠀⠀⠀⠀⠀⠀⠀⠀⠀⠀⠀⠀⠀\u001b[38;5;8m│\u001b[0m \u001b[38;5;8m\u001b[0m              \n",
       "                  \u001b[38;5;8m\u001b[0m \u001b[38;5;8m│\u001b[0m⠀⠀⠀⠀\u001b[38;5;1m⢸\u001b[0m\u001b[38;5;4m⢀\u001b[0m\u001b[38;5;4m⠴\u001b[0m\u001b[38;5;4m⠚\u001b[0m\u001b[38;5;4m⠁\u001b[0m⠀⠀⠀⠀⠀⠀⠀⠀⠀⠀⠀⠀⠀⠀⠀⠀⠀⠀⠀⠀⠀⠀⠀⠀⠀⠀⠀⠀⠀⠀⠀\u001b[38;5;8m│\u001b[0m \u001b[38;5;8m\u001b[0m              \n",
       "                  \u001b[38;5;8m\u001b[0m \u001b[38;5;8m│\u001b[0m⠀⠀⠀⠀\u001b[38;5;5m⡟\u001b[0m\u001b[38;5;4m⠋\u001b[0m⠀⠀⠀⠀⠀⠀⠀⠀⠀⠀⠀⠀⠀⠀⠀⠀⠀⠀⠀⠀⠀⠀⠀⠀⠀⠀⠀⠀⠀⠀⠀⠀⠀⠀\u001b[38;5;8m│\u001b[0m \u001b[38;5;8m\u001b[0m              \n",
       "                  \u001b[38;5;8m\u001b[0m \u001b[38;5;8m│\u001b[0m⠀⠀\u001b[38;5;4m⢠\u001b[0m\u001b[38;5;5m⢻\u001b[0m\u001b[38;5;1m⠁\u001b[0m⠀⠀⠀⠀⠀⠀⠀⠀⠀⠀\u001b[38;5;2m⢀\u001b[0m\u001b[38;5;2m⣀\u001b[0m\u001b[38;5;2m⣀\u001b[0m\u001b[38;5;2m⣀\u001b[0m\u001b[38;5;2m⡤\u001b[0m\u001b[38;5;2m⠤\u001b[0m\u001b[38;5;2m⠤\u001b[0m\u001b[38;5;2m⠤\u001b[0m\u001b[38;5;2m⠤\u001b[0m\u001b[38;5;2m⠤\u001b[0m\u001b[38;5;2m⠒\u001b[0m\u001b[38;5;2m⠒\u001b[0m\u001b[38;5;2m⠒\u001b[0m\u001b[38;5;2m⠒\u001b[0m\u001b[38;5;2m⠒\u001b[0m\u001b[38;5;2m⠒\u001b[0m\u001b[38;5;2m⠒\u001b[0m\u001b[38;5;2m⠒\u001b[0m\u001b[38;5;2m⠒\u001b[0m\u001b[38;5;2m⠒\u001b[0m\u001b[38;5;2m⠒\u001b[0m\u001b[38;5;2m⠒\u001b[0m\u001b[38;5;2m⠒\u001b[0m\u001b[38;5;2m⠒\u001b[0m\u001b[38;5;2m⠒\u001b[0m\u001b[38;5;8m│\u001b[0m \u001b[38;5;8m\u001b[0m              \n",
       "   k'(k|z)        \u001b[38;5;8m\u001b[0m \u001b[38;5;8m│\u001b[0m⠀\u001b[38;5;4m⢠\u001b[0m\u001b[38;5;4m⠂\u001b[0m\u001b[38;5;1m⡞\u001b[0m⠀⠀⠀⠀\u001b[38;5;2m⣀\u001b[0m\u001b[38;5;2m⡤\u001b[0m\u001b[38;5;2m⠤\u001b[0m\u001b[38;5;2m⠒\u001b[0m\u001b[38;5;2m⠒\u001b[0m\u001b[38;5;2m⠉\u001b[0m\u001b[38;5;2m⠉\u001b[0m\u001b[38;5;2m⠉\u001b[0m⠀⠀⠀⠀⠀⠀⠀⠀⠀⠀⠀⠀⠀⠀⠀⠀⠀⠀⠀⠀⠀⠀⠀⠀\u001b[38;5;8m│\u001b[0m \u001b[38;5;8m\u001b[0m              \n",
       "                  \u001b[38;5;8m\u001b[0m \u001b[38;5;8m│\u001b[0m\u001b[38;5;4m⢀\u001b[0m\u001b[38;5;4m⠂\u001b[0m\u001b[38;5;1m⢰\u001b[0m\u001b[38;5;1m⠃\u001b[0m\u001b[38;5;2m⣀\u001b[0m\u001b[38;5;2m⠴\u001b[0m\u001b[38;5;2m⠚\u001b[0m\u001b[38;5;2m⠉\u001b[0m⠀⠀⠀⠀⠀⠀⠀⠀⠀⠀⠀⠀⠀⠀⠀⠀⠀⠀⠀⠀⠀⠀⠀⠀⠀⠀⠀⠀⠀⠀⠀⠀\u001b[38;5;8m│\u001b[0m \u001b[38;5;8m\u001b[0m              \n",
       "                  \u001b[38;5;8m\u001b[0m \u001b[38;5;8m│\u001b[0m\u001b[38;5;4m⠠\u001b[0m⠀\u001b[38;5;3m⡼\u001b[0m\u001b[38;5;2m⠊\u001b[0m\u001b[38;5;2m⠁\u001b[0m⠀⠀⠀⠀⠀⠀⠀⠀⠀⠀⠀⠀⠀⠀⠀⠀⠀⠀⠀⠀⠀⠀⠀⠀⠀⠀⠀⠀⠀⠀⠀⠀⠀⠀⠀\u001b[38;5;8m│\u001b[0m \u001b[38;5;8m\u001b[0m              \n",
       "                  \u001b[38;5;8m\u001b[0m \u001b[38;5;8m│\u001b[0m\u001b[38;5;6m⢂\u001b[0m\u001b[38;5;3m⢼\u001b[0m\u001b[38;5;1m⠇\u001b[0m⠀⠀⠀⠀⠀⠀⠀⠀⠀⠀⠀⠀⠀⠀⠀⠀⠀⠀⠀⠀⠀⠀⠀⠀⠀⠀⠀⠀⠀⠀⠀⠀⠀⠀⠀⠀⠀\u001b[38;5;8m│\u001b[0m \u001b[38;5;8m\u001b[0m              \n",
       "                  \u001b[38;5;8m\u001b[0m \u001b[38;5;8m│\u001b[0m\u001b[38;5;2m⡐\u001b[0m\u001b[38;5;1m⡼\u001b[0m⠀⠀⠀⠀⠀⠀⠀⠀⠀⠀⠀⠀⠀⠀⠀⠀⠀⠀⠀⠀⠀⠀⠀⠀⠀⠀⠀⠀⠀⠀⠀⠀⠀⠀⠀⠀⠀⠀\u001b[38;5;8m│\u001b[0m \u001b[38;5;8m\u001b[0m              \n",
       "                  \u001b[38;5;8m\u001b[0m \u001b[38;5;8m│\u001b[0m\u001b[38;5;5m⢄\u001b[0m\u001b[38;5;1m⡇\u001b[0m⠀⠀⠀⠀⠀⠀⠀⠀⠀⠀⠀⠀⠀⠀⠀⠀⠀⠀⠀⠀⠀⠀⠀⠀⠀⠀⠀⠀⠀⠀⠀⠀⠀⠀⠀⠀⠀⠀\u001b[38;5;8m│\u001b[0m \u001b[38;5;8m\u001b[0m              \n",
       "                  \u001b[38;5;8m\u001b[0m \u001b[38;5;8m│\u001b[0m\u001b[38;5;3m⣺\u001b[0m⠀⠀⠀⠀⠀⠀⠀⠀⠀⠀⠀⠀⠀⠀⠀⠀⠀⠀⠀⠀⠀⠀⠀⠀⠀⠀⠀⠀⠀⠀⠀⠀⠀⠀⠀⠀⠀⠀⠀\u001b[38;5;8m│\u001b[0m \u001b[38;5;8m\u001b[0m              \n",
       "                 \u001b[38;5;8m0\u001b[0m \u001b[38;5;8m│\u001b[0m\u001b[38;5;1m⡇\u001b[0m⠀⠀⠀⠀⠀⠀⠀⠀⠀⠀⠀⠀⠀⠀⠀⠀⠀⠀⠀⠀⠀⠀⠀⠀⠀⠀⠀⠀⠀⠀⠀⠀⠀⠀⠀⠀⠀⠀⠀\u001b[38;5;8m│\u001b[0m \u001b[38;5;8m\u001b[0m              \n",
       "                   \u001b[38;5;8m└────────────────────────────────────────┘\u001b[0m               \n",
       "                   ⠀\u001b[38;5;8m0\u001b[0m⠀⠀⠀⠀⠀⠀⠀⠀⠀⠀⠀⠀⠀⠀⠀⠀⠀⠀\u001b[38;5;8m\u001b[0m⠀⠀⠀⠀⠀⠀⠀⠀⠀⠀⠀⠀⠀⠀⠀⠀⠀⠀⠀\u001b[38;5;8m10\u001b[0m⠀               \n",
       "                   ⠀⠀⠀⠀⠀⠀⠀⠀⠀⠀⠀⠀⠀⠀⠀⠀⠀⠀⠀⠀⠀k⠀⠀⠀⠀⠀⠀⠀⠀⠀⠀⠀⠀⠀⠀⠀⠀⠀⠀⠀⠀               "
      ]
     },
     "metadata": {},
     "output_type": "display_data"
    }
   ],
   "source": [
    "# visualize the policy function k'(k,z)\n",
    "let \n",
    "\n",
    "    local fig = up.scatterplot(\n",
    "        Xnodes[:], Xnext[2][:,1], name = \"z = 1.2\", color = :blue,\n",
    "        ylim = (0.0, [Xnext[1] Xnext[2]] |> maximum),\n",
    "        title = \"Policy function k'(k,z)\", xlabel = \"k\", ylabel = \"k'(k|z)\"\n",
    "    )\n",
    "\n",
    "    up.lineplot!(\n",
    "        fig, Xnodes[:], Xnodes[:], color = :red, name = \"45-degree line\"\n",
    "    )\n",
    "\n",
    "    up.scatterplot!(\n",
    "        fig, Xnodes[:], Xnext[1][:,1], name = \"z = 0.8\", color = :green\n",
    "    )\n",
    "    \n",
    "    fig\n",
    "end"
   ]
  }
 ],
 "metadata": {
  "kernelspec": {
   "display_name": "Julia 1.11.2",
   "language": "julia",
   "name": "julia-1.11"
  },
  "language_info": {
   "file_extension": ".jl",
   "mimetype": "application/julia",
   "name": "julia",
   "version": "1.11.2"
  }
 },
 "nbformat": 4,
 "nbformat_minor": 2
}
